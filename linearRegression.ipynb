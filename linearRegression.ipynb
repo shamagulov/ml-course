{
  "nbformat": 4,
  "nbformat_minor": 0,
  "metadata": {
    "colab": {
      "name": "Untitled6.ipynb",
      "provenance": []
    },
    "kernelspec": {
      "name": "python3",
      "display_name": "Python 3"
    },
    "language_info": {
      "name": "python"
    }
  },
  "cells": [
    {
      "cell_type": "markdown",
      "metadata": {
        "id": "OXjJIl-O54Wz"
      },
      "source": [
        "# Домашнее задание\n",
        "## Задача 1\n",
        "Построить модель линейной регрессии.\n",
        "- линейная модель\n",
        "- полином второй степени\n",
        "- полином третьей степени\n",
        "- экспонента \n",
        "\n",
        "\n",
        "Построить графики получившихся функций (линейная, квадратичная, кубическая, экспонента) и тренировочной выборки. \n",
        "- Посчитать MSE для каждого случая\n",
        "- Выбрать наилучший вариант (без тестовой выборки)\n",
        "\n",
        "\n",
        "Для решения можете использовать np.linalg.lstsq, np.polyfit, np.poly1d, scipy.stats.linregress, scipy.optimize.curve_fit, sklearn.linear_model.LinearRegression, statsmodels, np.linalg.solve (аналитически) или с помощью стохастического градиентного спуска (написать самостоятельно)."
      ]
    },
    {
      "cell_type": "code",
      "metadata": {
        "id": "OJ3cdRsy55Fi"
      },
      "source": [
        "import numpy as np\n",
        "import matplotlib.pyplot as plt"
      ],
      "execution_count": 47,
      "outputs": []
    },
    {
      "cell_type": "code",
      "metadata": {
        "id": "1gtztARW552Z"
      },
      "source": [
        "y = np.array([12.19, 8.41, 14.68, 8.64, 32.94, 22.61, 45.92, 23.63, 18.59, 36.22, 50.10, 46.22, 23.63, 47.30, 40.03, 56.53, 38.41, 51.47, 6.29, 35.41, 67.79, 74.21, 79.12, 45.10])\n",
        "x = np.linspace(0, 1, num = 24)"
      ],
      "execution_count": 48,
      "outputs": []
    },
    {
      "cell_type": "code",
      "metadata": {
        "colab": {
          "base_uri": "https://localhost:8080/",
          "height": 265
        },
        "id": "vx5xhG1i55up",
        "outputId": "f141a521-770a-4e65-a4d1-7153cbffe6e0"
      },
      "source": [
        "plt.scatter(x, y);"
      ],
      "execution_count": 49,
      "outputs": [
        {
          "output_type": "display_data",
          "data": {
            "image/png": "[encoded data removed]",
            "text/plain": [
              "<Figure size 432x288 with 1 Axes>"
            ]
          },
          "metadata": {
            "needs_background": "light"
          }
        }
      ]
    },
    {
      "cell_type": "code",
      "metadata": {
        "id": "RfSmERgn55o5"
      },
      "source": [
        "X = list(zip(np.ones(24), x, x*x))"
      ],
      "execution_count": 50,
      "outputs": []
    },
    {
      "cell_type": "code",
      "metadata": {
        "id": "EAf-LonM55ji"
      },
      "source": [
        "W = np.linalg.lstsq(X, y, rcond=None)[0]"
      ],
      "execution_count": 51,
      "outputs": []
    },
    {
      "cell_type": "code",
      "metadata": {
        "colab": {
          "base_uri": "https://localhost:8080/"
        },
        "id": "mxhFnoBE55dp",
        "outputId": "2fdb5e8e-d15e-424d-f180-6e1cc4f825d3"
      },
      "source": [
        "W"
      ],
      "execution_count": 52,
      "outputs": [
        {
          "output_type": "execute_result",
          "data": {
            "text/plain": [
              "array([12.1867    , 55.61441818, -9.10381818])"
            ]
          },
          "metadata": {},
          "execution_count": 52
        }
      ]
    },
    {
      "cell_type": "code",
      "metadata": {
        "id": "2h6iF6VT55Wx"
      },
      "source": [
        "def f(x, w): \n",
        "    return w[0] + w[1]*x + w[2]*x*x"
      ],
      "execution_count": 53,
      "outputs": []
    },
    {
      "cell_type": "code",
      "metadata": {
        "colab": {
          "base_uri": "https://localhost:8080/"
        },
        "id": "cCTQyUuo6Igw",
        "outputId": "22c756b7-3bbe-42a2-cbbe-b488ad0ea43a"
      },
      "source": [
        "f(x, W)"
      ],
      "execution_count": 54,
      "outputs": [
        {
          "output_type": "execute_result",
          "data": {
            "text/plain": [
              "array([12.1867    , 14.5875087 , 16.95389842, 19.28586917, 21.58342095,\n",
              "       23.84655375, 26.07526759, 28.26956245, 30.42943834, 32.55489526,\n",
              "       34.6459332 , 36.70255217, 38.72475217, 40.7125332 , 42.66589526,\n",
              "       44.58483834, 46.46936245, 48.31946759, 50.13515375, 51.91642095,\n",
              "       53.66326917, 55.37569842, 57.0537087 , 58.6973    ])"
            ]
          },
          "metadata": {},
          "execution_count": 54
        }
      ]
    },
    {
      "cell_type": "code",
      "metadata": {
        "colab": {
          "base_uri": "https://localhost:8080/",
          "height": 265
        },
        "id": "3-lhJfaa6Ibw",
        "outputId": "b20107ce-431f-4d50-c027-b7a6ae3ecbbe"
      },
      "source": [
        "plt.scatter(x, y, label='train set')\n",
        "plt.plot(x, f(x, W), label='2 st')\n",
        "plt.legend();"
      ],
      "execution_count": 55,
      "outputs": [
        {
          "output_type": "display_data",
          "data": {
            "image/png": "[encoded data removed]",
            "text/plain": [
              "<Figure size 432x288 with 1 Axes>"
            ]
          },
          "metadata": {
            "needs_background": "light"
          }
        }
      ]
    },
    {
      "cell_type": "code",
      "metadata": {
        "id": "R-2zKS7X6L9n"
      },
      "source": [
        "from sklearn.metrics import mean_squared_error"
      ],
      "execution_count": 56,
      "outputs": []
    },
    {
      "cell_type": "code",
      "metadata": {
        "colab": {
          "base_uri": "https://localhost:8080/"
        },
        "id": "hgVDTRi96NlH",
        "outputId": "460ca95a-0247-43e4-f03b-2153da155564"
      },
      "source": [
        "mean_squared_error(y, f(x, W))"
      ],
      "execution_count": 57,
      "outputs": [
        {
          "output_type": "execute_result",
          "data": {
            "text/plain": [
              "212.59353678557315"
            ]
          },
          "metadata": {},
          "execution_count": 57
        }
      ]
    },
    {
      "cell_type": "code",
      "metadata": {
        "id": "iArj6fBRx8DX"
      },
      "source": [
        "X = list(zip(np.ones(24), x))"
      ],
      "execution_count": 58,
      "outputs": []
    },
    {
      "cell_type": "code",
      "metadata": {
        "id": "DuhVwECVyRv0"
      },
      "source": [
        "W = np.linalg.lstsq(X, y, rcond=None)[0]"
      ],
      "execution_count": 59,
      "outputs": []
    },
    {
      "cell_type": "code",
      "metadata": {
        "colab": {
          "base_uri": "https://localhost:8080/"
        },
        "id": "FfO0o5tvyXrC",
        "outputId": "4c52a6d7-d37d-465a-a525-a7f8e94df583"
      },
      "source": [
        "W"
      ],
      "execution_count": 60,
      "outputs": [
        {
          "output_type": "execute_result",
          "data": {
            "text/plain": [
              "array([13.63803333, 46.5106    ])"
            ]
          },
          "metadata": {},
          "execution_count": 60
        }
      ]
    },
    {
      "cell_type": "code",
      "metadata": {
        "id": "YfejvWk2yu_v"
      },
      "source": [
        "def f(x, w): \n",
        "    return w[0] + w[1]*x"
      ],
      "execution_count": 61,
      "outputs": []
    },
    {
      "cell_type": "code",
      "metadata": {
        "colab": {
          "base_uri": "https://localhost:8080/"
        },
        "id": "51w22HyPzNM7",
        "outputId": "99cfe304-1a11-49fb-f343-49962c3dd6fe"
      },
      "source": [
        "f(x, W)"
      ],
      "execution_count": 62,
      "outputs": [
        {
          "output_type": "execute_result",
          "data": {
            "text/plain": [
              "array([13.63803333, 15.66023333, 17.68243333, 19.70463333, 21.72683333,\n",
              "       23.74903333, 25.77123333, 27.79343333, 29.81563333, 31.83783333,\n",
              "       33.86003333, 35.88223333, 37.90443333, 39.92663333, 41.94883333,\n",
              "       43.97103333, 45.99323333, 48.01543333, 50.03763333, 52.05983333,\n",
              "       54.08203333, 56.10423333, 58.12643333, 60.14863333])"
            ]
          },
          "metadata": {},
          "execution_count": 62
        }
      ]
    },
    {
      "cell_type": "code",
      "metadata": {
        "colab": {
          "base_uri": "https://localhost:8080/",
          "height": 265
        },
        "id": "SHGTgTG5zRBT",
        "outputId": "fef15719-14f2-402d-b2b1-0f02a4787191"
      },
      "source": [
        "plt.scatter(x, y, label='train set')\n",
        "plt.plot(x, f(x, W), label='lin')\n",
        "plt.legend();"
      ],
      "execution_count": 63,
      "outputs": [
        {
          "output_type": "display_data",
          "data": {
            "image/png": "[encoded data removed]",
            "text/plain": [
              "<Figure size 432x288 with 1 Axes>"
            ]
          },
          "metadata": {
            "needs_background": "light"
          }
        }
      ]
    },
    {
      "cell_type": "code",
      "metadata": {
        "colab": {
          "base_uri": "https://localhost:8080/"
        },
        "id": "7SNjHS1WzWcS",
        "outputId": "6d5648d0-7ec4-4bd1-9caa-9e289093fa2f"
      },
      "source": [
        "mean_squared_error(y, f(x, W))"
      ],
      "execution_count": 64,
      "outputs": [
        {
          "output_type": "execute_result",
          "data": {
            "text/plain": [
              "213.13469863888886"
            ]
          },
          "metadata": {},
          "execution_count": 64
        }
      ]
    },
    {
      "cell_type": "code",
      "metadata": {
        "id": "DplWIvJe0KFc"
      },
      "source": [
        "X = list(zip(np.ones(24), x, x*x, x*x*x))"
      ],
      "execution_count": 65,
      "outputs": []
    },
    {
      "cell_type": "code",
      "metadata": {
        "id": "rFVo87vO0STz"
      },
      "source": [
        "W = np.linalg.lstsq(X, y, rcond=None)[0]"
      ],
      "execution_count": 66,
      "outputs": []
    },
    {
      "cell_type": "code",
      "metadata": {
        "colab": {
          "base_uri": "https://localhost:8080/"
        },
        "id": "KGvdHQKf0XEi",
        "outputId": "06345720-72e5-455e-d197-aeab48ada33b"
      },
      "source": [
        "W"
      ],
      "execution_count": 67,
      "outputs": [
        {
          "output_type": "execute_result",
          "data": {
            "text/plain": [
              "array([   5.65033333,  143.52996465, -233.63225758,  149.68562626])"
            ]
          },
          "metadata": {},
          "execution_count": 67
        }
      ]
    },
    {
      "cell_type": "code",
      "metadata": {
        "id": "Gbu65-K80W_V"
      },
      "source": [
        "def f(x, w): \n",
        "    return w[0] + w[1]*x + w[2]*x*x + w[3]*x*x*x"
      ],
      "execution_count": 68,
      "outputs": []
    },
    {
      "cell_type": "code",
      "metadata": {
        "colab": {
          "base_uri": "https://localhost:8080/"
        },
        "id": "gWK-GAdc0W6y",
        "outputId": "983a52d2-27f9-4f99-92b9-82aa32e03159"
      },
      "source": [
        "f(x, W)"
      ],
      "execution_count": 69,
      "outputs": [
        {
          "output_type": "execute_result",
          "data": {
            "text/plain": [
              "array([ 5.65033333, 11.46142029, 16.46302503, 20.72896311, 24.33305007,\n",
              "       27.34910145, 29.85093281, 31.91235968, 33.60719763, 35.00926219,\n",
              "       36.19236891, 37.23033333, 38.19697101, 39.1660975 , 40.21152833,\n",
              "       41.40707905, 42.82656522, 44.54380237, 46.63260606, 49.16679183,\n",
              "       52.22017523, 55.86657181, 60.1797971 , 65.23366667])"
            ]
          },
          "metadata": {},
          "execution_count": 69
        }
      ]
    },
    {
      "cell_type": "code",
      "metadata": {
        "colab": {
          "base_uri": "https://localhost:8080/",
          "height": 265
        },
        "id": "W6qXAIFZ0WzK",
        "outputId": "efd5c3dd-7a27-4aa1-cb70-00fc38229714"
      },
      "source": [
        "plt.scatter(x, y, label='train set')\n",
        "plt.plot(x, f(x, W), label='3 st')\n",
        "plt.legend();"
      ],
      "execution_count": 70,
      "outputs": [
        {
          "output_type": "display_data",
          "data": {
            "image/png": "[encoded data removed]",
            "text/plain": [
              "<Figure size 432x288 with 1 Axes>"
            ]
          },
          "metadata": {
            "needs_background": "light"
          }
        }
      ]
    },
    {
      "cell_type": "code",
      "metadata": {
        "colab": {
          "base_uri": "https://localhost:8080/"
        },
        "id": "YJzAO_Ay0kiq",
        "outputId": "7e47da67-311f-4739-bd48-6e111ad68289"
      },
      "source": [
        "mean_squared_error(y, f(x, W))"
      ],
      "execution_count": 71,
      "outputs": [
        {
          "output_type": "execute_result",
          "data": {
            "text/plain": [
              "202.513036590909"
            ]
          },
          "metadata": {},
          "execution_count": 71
        }
      ]
    },
    {
      "cell_type": "code",
      "metadata": {
        "id": "Xm5AZcqo1GWs"
      },
      "source": [
        "X = list(zip(np.ones(24), np.exp(x)))"
      ],
      "execution_count": 72,
      "outputs": []
    },
    {
      "cell_type": "code",
      "metadata": {
        "id": "4um9cFuF1GSV"
      },
      "source": [
        "W = np.linalg.lstsq(X, y, rcond=None)[0]"
      ],
      "execution_count": 73,
      "outputs": []
    },
    {
      "cell_type": "code",
      "metadata": {
        "colab": {
          "base_uri": "https://localhost:8080/"
        },
        "id": "cv30Qhao1GNs",
        "outputId": "6cf1246d-e259-4809-9f76-b173b778ca6b"
      },
      "source": [
        "W"
      ],
      "execution_count": 74,
      "outputs": [
        {
          "output_type": "execute_result",
          "data": {
            "text/plain": [
              "array([-9.42279902, 26.85911292])"
            ]
          },
          "metadata": {},
          "execution_count": 74
        }
      ]
    },
    {
      "cell_type": "code",
      "metadata": {
        "id": "y8vlhvMz1GGt"
      },
      "source": [
        "def f(x, w): \n",
        "    return w[0] + w[1]*np.exp(x)"
      ],
      "execution_count": 75,
      "outputs": []
    },
    {
      "cell_type": "code",
      "metadata": {
        "colab": {
          "base_uri": "https://localhost:8080/"
        },
        "id": "BQKXIAg33YMz",
        "outputId": "3297b2aa-9779-4e78-9b36-e7dab3064754"
      },
      "source": [
        "f(x, W)"
      ],
      "execution_count": 76,
      "outputs": [
        {
          "output_type": "execute_result",
          "data": {
            "text/plain": [
              "array([17.43631391, 18.62986007, 19.87644418, 21.17842312, 22.53825847,\n",
              "       23.95852121, 25.44189658, 26.99118913, 28.60932804, 30.29937266,\n",
              "       32.06451828, 33.90810219, 35.83360996, 37.84468208, 39.9451208 ,\n",
              "       42.13889731, 44.43015931, 46.82323878, 49.32266021, 51.93314915,\n",
              "       54.65964115, 57.50729105, 60.4814828 , 63.58783957])"
            ]
          },
          "metadata": {},
          "execution_count": 76
        }
      ]
    },
    {
      "cell_type": "code",
      "metadata": {
        "colab": {
          "base_uri": "https://localhost:8080/",
          "height": 265
        },
        "id": "Lqa8yzvK3YJj",
        "outputId": "2774546a-e535-468a-9c6d-ddad6ea70ac7"
      },
      "source": [
        "plt.scatter(x, y, label='train set')\n",
        "plt.plot(x, f(x, W), label='exp')\n",
        "plt.legend();"
      ],
      "execution_count": 77,
      "outputs": [
        {
          "output_type": "display_data",
          "data": {
            "image/png": "[encoded data removed]",
            "text/plain": [
              "<Figure size 432x288 with 1 Axes>"
            ]
          },
          "metadata": {
            "needs_background": "light"
          }
        }
      ]
    },
    {
      "cell_type": "code",
      "metadata": {
        "colab": {
          "base_uri": "https://localhost:8080/"
        },
        "id": "yhrXyIek3YEj",
        "outputId": "67f06a28-49ab-40ca-d07a-424e52d1b11d"
      },
      "source": [
        "mean_squared_error(y, f(x, W))"
      ],
      "execution_count": 78,
      "outputs": [
        {
          "output_type": "execute_result",
          "data": {
            "text/plain": [
              "218.24309186403494"
            ]
          },
          "metadata": {},
          "execution_count": 78
        }
      ]
    },
    {
      "cell_type": "markdown",
      "metadata": {
        "id": "yAeqkDsX4g16"
      },
      "source": [
        "#Вывод:\n",
        "\n",
        "1.   213.13469863888886 (MSE для полинома первой степени)\n",
        "2.   212.59353678557315 (MSE для полинома второй степени)\n",
        "3.   202.513036590909 (MSE для полинома третьей степени)\n",
        "4.   218.24309186403494 (MSE для экспоненты)\n",
        "\n",
        "Лучшей моделью является полином третьей степени (202.513036590909)\n",
        "\n",
        "\n",
        "\n"
      ]
    },
    {
      "cell_type": "markdown",
      "metadata": {
        "id": "7ZkJONi97UAP"
      },
      "source": [
        "## Задача 2\n",
        "\n",
        "Данные: https://scikit-learn.org/stable/datasets/toy_dataset.html#diabetes-dataset \n",
        "\n",
        "1. Разделите данные на train/test или используйте кросс-валидацию (можно grid search)\n",
        "\n",
        "2. Постройте несколько моделей линейной регрессии:\n",
        "- sklearn.linear_model.LinearRegression\n",
        "- sklearn.linear_model.Ridge\n",
        "- sklearn.linear_model.Lasso\n",
        "- sklearn.linear_model.ElasticNet\n",
        "3. Для последних трёх вариантов попробуйте разные значения коэффициента регуляризации.\n",
        "4. Сравните построенные модели по MSE на тестовой выборке (или через кросс-валидацию)\n",
        "5. Какая модель оказалась наилучшей? Почему?"
      ]
    },
    {
      "cell_type": "code",
      "metadata": {
        "id": "TufmYnxKDHwT"
      },
      "source": [
        "import numpy as np\n",
        "import matplotlib.pyplot as plt\n",
        "from sklearn import datasets, linear_model\n",
        "from sklearn.model_selection import train_test_split\n",
        "from sklearn.metrics import mean_squared_error, r2_score"
      ],
      "execution_count": 105,
      "outputs": []
    },
    {
      "cell_type": "code",
      "metadata": {
        "id": "ck45yXm8E6ha"
      },
      "source": [
        "diabetes = datasets.load_diabetes()\n",
        "x_train, x_test, y_train, y_test = train_test_split(diabetes.data, diabetes.target, test_size=0.2, random_state=4)"
      ],
      "execution_count": 106,
      "outputs": []
    },
    {
      "cell_type": "markdown",
      "metadata": {
        "id": "Bo16zskNFQ6U"
      },
      "source": [
        "#LinearRegression"
      ]
    },
    {
      "cell_type": "code",
      "metadata": {
        "id": "Bc2rddTGE6e5"
      },
      "source": [
        "regr = linear_model.LinearRegression()\n",
        "regr.fit(x_train, y_train)\n",
        "y_pred = regr.predict(x_test)"
      ],
      "execution_count": 107,
      "outputs": []
    },
    {
      "cell_type": "code",
      "metadata": {
        "colab": {
          "base_uri": "https://localhost:8080/"
        },
        "id": "Pga9rQcXE6cp",
        "outputId": "f8bb23ef-739a-4599-924c-4662d3c547c3"
      },
      "source": [
        "print('coef: ', regr.coef_)\n",
        "print(\"Mean squared error: %.2f\"\n",
        "      % mean_squared_error(y_test, y_pred))\n",
        "print('R^2: ', regr.score(x_test,y_test))"
      ],
      "execution_count": 108,
      "outputs": [
        {
          "output_type": "stream",
          "name": "stdout",
          "text": [
            "coef:  [  33.40877011 -292.24672884  481.07153405  369.06269614 -966.37849405\n",
            "  589.81383056  232.61924401  288.3263166   802.72704593   37.81285219]\n",
            "Mean squared error: 2939.42\n",
            "R^2:  0.4610882915687333\n"
          ]
        }
      ]
    },
    {
      "cell_type": "markdown",
      "metadata": {
        "id": "ruxvE59RFYxl"
      },
      "source": [
        "#Lasso"
      ]
    },
    {
      "cell_type": "code",
      "metadata": {
        "id": "iAirn32xE6aR"
      },
      "source": [
        "lasso = linear_model.Lasso(alpha=0.1)\n",
        "lasso.fit(x_train, y_train)\n",
        "y_pred = lasso.predict(x_test)"
      ],
      "execution_count": 109,
      "outputs": []
    },
    {
      "cell_type": "code",
      "metadata": {
        "colab": {
          "base_uri": "https://localhost:8080/"
        },
        "id": "oGigQN0gE6YB",
        "outputId": "2ebc9bca-be8e-4b79-f72f-c8f20226dc6f"
      },
      "source": [
        "print('coef: ', lasso.coef_)\n",
        "print(\"Mean squared error: %.2f\"\n",
        "      % mean_squared_error(y_test, y_pred))\n",
        "print('R^2: ', lasso.score(x_test,y_test))"
      ],
      "execution_count": 110,
      "outputs": [
        {
          "output_type": "stream",
          "name": "stdout",
          "text": [
            "coef:  [   0.         -198.92007047  480.66671601  330.63402569  -26.57095924\n",
            "   -0.         -209.48136823    0.          490.41780815    0.49979948]\n",
            "Mean squared error: 2877.23\n",
            "R^2:  0.4724898734589885\n"
          ]
        }
      ]
    },
    {
      "cell_type": "markdown",
      "metadata": {
        "id": "t6VGpQ0jFeXc"
      },
      "source": [
        "#Ridge"
      ]
    },
    {
      "cell_type": "code",
      "metadata": {
        "id": "M4Q67EcSE6VR"
      },
      "source": [
        "ridge = linear_model.Ridge(alpha=0.1)\n",
        "ridge.fit(x_train, y_train)\n",
        "y_pred = ridge.predict(x_test)"
      ],
      "execution_count": 111,
      "outputs": []
    },
    {
      "cell_type": "code",
      "metadata": {
        "colab": {
          "base_uri": "https://localhost:8080/"
        },
        "id": "Mu53lLpZFkOy",
        "outputId": "b92b60d5-1c9d-4144-d3ab-0d70b4eaf8d6"
      },
      "source": [
        "print('coef: ', ridge.coef_)\n",
        "print(\"Mean squared error: %.2f\"\n",
        "      % mean_squared_error(y_test, y_pred))\n",
        "print('R^2: ', ridge.score(x_test,y_test))"
      ],
      "execution_count": 112,
      "outputs": [
        {
          "output_type": "stream",
          "name": "stdout",
          "text": [
            "coef:  [  44.02025512 -241.69666596  452.98163524  332.04993719  -76.34010147\n",
            "  -68.52063199 -164.98817213  149.9687712   431.61985919   58.51762582]\n",
            "Mean squared error: 2894.59\n",
            "R^2:  0.46930668289209754\n"
          ]
        }
      ]
    },
    {
      "cell_type": "markdown",
      "metadata": {
        "id": "1uXjXxdiFiH7"
      },
      "source": [
        "#ElasticNet"
      ]
    },
    {
      "cell_type": "code",
      "metadata": {
        "id": "oI-BFAhBE6Sx"
      },
      "source": [
        "el = linear_model.ElasticNet(alpha=0.1)\n",
        "el.fit(x_train, y_train)\n",
        "y_pred = el.predict(x_test)"
      ],
      "execution_count": 113,
      "outputs": []
    },
    {
      "cell_type": "code",
      "metadata": {
        "colab": {
          "base_uri": "https://localhost:8080/"
        },
        "id": "h9lljCvjE6OC",
        "outputId": "a22c2657-1cc5-455f-9072-7d22fc3207ff"
      },
      "source": [
        "print('coef: ', el.coef_)\n",
        "print(\"Mean squared error: %.2f\"\n",
        "      % mean_squared_error(y_test, y_pred))\n",
        "print('R^2: ', el.score(x_test,y_test))"
      ],
      "execution_count": 114,
      "outputs": [
        {
          "output_type": "stream",
          "name": "stdout",
          "text": [
            "coef:  [ 11.82723863  -0.          37.21052851  29.71528009  11.89857022\n",
            "   8.0999657  -23.93173146  26.52631663  37.31170656  21.55686773]\n",
            "Mean squared error: 4903.96\n",
            "R^2:  0.10090965900443194\n"
          ]
        }
      ]
    },
    {
      "cell_type": "markdown",
      "metadata": {
        "id": "VYRQGVTKFvbq"
      },
      "source": [
        "#Вывод\n",
        "Лучшей моделью оказалась Lasso регрессия, потому что у нее наименьший mse."
      ]
    }
  ]
}