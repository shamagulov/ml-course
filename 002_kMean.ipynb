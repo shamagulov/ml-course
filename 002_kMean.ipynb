{
  "nbformat": 4,
  "nbformat_minor": 0,
  "metadata": {
    "colab": {
      "name": "Untitled5.ipynb",
      "provenance": []
    },
    "kernelspec": {
      "name": "python3",
      "display_name": "Python 3"
    },
    "language_info": {
      "name": "python"
    }
  },
  "cells": [
    {
      "cell_type": "markdown",
      "metadata": {
        "id": "LE9KsARnxhKT"
      },
      "source": [
        "# Домашнее задание 2\n",
        "## Задание 1\n",
        "1. Реализовать kmeans\n",
        "2. Визуализировать сходимость центров кластеров\n",
        "3. Оценить $SSE$ для значений $k = 1, \\ldots, 10$ и построить график зависимости $SSE$ от количества кластеров."
      ]
    },
    {
      "cell_type": "code",
      "metadata": {
        "colab": {
          "base_uri": "https://localhost:8080/",
          "height": 282
        },
        "id": "GfOaU0aDxll8",
        "outputId": "8ddd6e72-1fa7-486e-d52c-d066c39d57de"
      },
      "source": [
        "import matplotlib.pyplot as plt\n",
        "from sklearn.datasets import make_blobs\n",
        "X, Y = make_blobs(n_samples = 1000, n_features=2, centers=5, cluster_std = 1.2, random_state=17)\n",
        "plt.scatter(X[:,0], X[:,1])"
      ],
      "execution_count": 1,
      "outputs": [
        {
          "output_type": "execute_result",
          "data": {
            "text/plain": [
              "<matplotlib.collections.PathCollection at 0x7fc488095a50>"
            ]
          },
          "metadata": {},
          "execution_count": 1
        },
        {
          "output_type": "display_data",
          "data": {
            "image/png": "[encoded data removed]",
            "text/plain": [
              "<Figure size 432x288 with 1 Axes>"
            ]
          },
          "metadata": {
            "needs_background": "light"
          }
        }
      ]
    },
    {
      "cell_type": "code",
      "metadata": {
        "id": "2lXRy2eNAbfM"
      },
      "source": [
        "from sklearn.base import BaseEstimator, ClusterMixin\n",
        "from numpy.linalg import norm\n",
        "import numpy as np\n",
        "\n",
        "class Kmeans(BaseEstimator, ClusterMixin): \n",
        "\n",
        "    def __init__(self, k=3, metric='euclidean', max_iter=300, random_state=17, init='random'):\n",
        "        self.k = k\n",
        "        self.random_state = random_state\n",
        "        self.metric = metric\n",
        "        self.max_iter = max_iter\n",
        "        self.init = init\n",
        "\n",
        "    def fit(self, X, y=None):\n",
        "        np.random.seed(self.random_state)\n",
        "        self.labels = np.empty(X.shape[0])\n",
        "        self.centroids = np.empty((self.k, X.shape[1]))\n",
        "        if self.init == 'k-means':\n",
        "            self.k_means(X, y)\n",
        "        else:\n",
        "            self.centroids = X[np.random.choice(X.shape[0], self.k)]\n",
        "        for it in xrange(self.max_iter):\n",
        "            check = np.zeros(X.shape[0])\n",
        "            quantity = np.ones((self.k, 1))\n",
        "            centr_sum = np.zeros((self.k, X.shape[1]))                \n",
        "            for i, x in enumerate(X):\n",
        "                min_dist = norm(x - self.centroids[0])\n",
        "                min_num = 0\n",
        "                for j, centr in enumerate(self.centroids):\n",
        "                    if min_dist > norm(x - centr):\n",
        "                        min_dist = norm(x - centr)\n",
        "                        min_num = j\n",
        "                if (self.labels[i] != min_num):\n",
        "                    self.labels[i] = min_num\n",
        "                    check[i] = 1.\n",
        "                quantity[min_num] += 1\n",
        "                centr_sum[min_num] += x\n",
        "            if sum(check) == 0:\n",
        "                break\n",
        "            self.centroids = centr_sum / quantity                \n",
        "        return self\n",
        "\n",
        "    def k_means(self, X, y=None):\n",
        "        self.centroids[0] = X[np.random.randint(X.shape[0])]\n",
        "        distance = np.empty(X.shape[0])\n",
        "        for i, centr in enumerate(self.centroids):\n",
        "            if i == 0:\n",
        "                continue\n",
        "            all_sum = 0.\n",
        "            for j, x in enumerate(X):\n",
        "                min_dist = norm(x - self.centroids[0])\n",
        "                for k in xrange(1, i):\n",
        "                    dist = norm(x - self.centroids[k])\n",
        "                    if min_dist > dist:\n",
        "                        min_dist = dist\n",
        "                distance[j] = min_dist\n",
        "                all_sum += min_dist\n",
        "            rand_sum = np.random.random() * all_sum\n",
        "            some_sum = 0.\n",
        "            for j, x in enumerate(X):\n",
        "                some_sum += distance[j]\n",
        "                if some_sum > rand_sum:\n",
        "                    centr = X[j]\n",
        "                    break\n",
        "        return self\n",
        "        \n",
        "    def predict(self, X, y=None):\n",
        "        return self.labels"
      ],
      "execution_count": 17,
      "outputs": []
    },
    {
      "cell_type": "code",
      "metadata": {
        "id": "-pEcziCaAefb"
      },
      "source": [
        "from sklearn.datasets import make_blobs\n",
        "import matplotlib.pyplot as plt\n",
        "%matplotlib inline"
      ],
      "execution_count": 18,
      "outputs": []
    },
    {
      "cell_type": "code",
      "metadata": {
        "id": "dy7_OYoeFwwf"
      },
      "source": [
        "X, y = make_blobs(n_samples=1000, n_features=2, centers=5, cluster_std=1.2, \n",
        "           center_box=(-10.0, 10.0), shuffle=False, random_state=17)"
      ],
      "execution_count": 19,
      "outputs": []
    },
    {
      "cell_type": "code",
      "metadata": {
        "colab": {
          "base_uri": "https://localhost:8080/",
          "height": 282
        },
        "id": "XpauG9i2FwmY",
        "outputId": "41e42716-cc4c-45ed-d65e-e8424cca7617"
      },
      "source": [
        "plt.scatter(X[:,0], X[:, 1], c=y)"
      ],
      "execution_count": 23,
      "outputs": [
        {
          "output_type": "execute_result",
          "data": {
            "text/plain": [
              "<matplotlib.collections.PathCollection at 0x7fc4876aad50>"
            ]
          },
          "metadata": {},
          "execution_count": 23
        },
        {
          "output_type": "display_data",
          "data": {
            "image/png": "[encoded data removed]",
            "text/plain": [
              "<Figure size 432x288 with 1 Axes>"
            ]
          },
          "metadata": {
            "needs_background": "light"
          }
        }
      ]
    },
    {
      "cell_type": "markdown",
      "metadata": {
        "id": "E9C0e4M7yJss"
      },
      "source": [
        "## Задание 2\n",
        "1. Исследуйте данные с помощью pandas. Посмотрите на признаки и их распределения. (Например, постройте график распределения автомобилей по годам, типу топлива и т.д.)\n",
        "2. Кластеризуйте данные с помощью KMeans из sklearn.clustering. Найдите оптимальное число кластеров\n",
        "3. Произведите анализ получившихся кластеров:\n",
        "\n",
        "Пример: первый кластер содержит полноприводные автомобили немецкого производства с АКПП, небольшим пробегом и высокой стоимостью, второй - японцы с правым рулём ..."
      ]
    },
    {
      "cell_type": "code",
      "metadata": {
        "id": "AQPKk_nCyLkl"
      },
      "source": [
        "import pandas as pd\n",
        "import numpy as np\n",
        "import matplotlib.pyplot as plt\n",
        "\n",
        "df = pd.read_csv('2.csv', encoding='cp1251')\n",
        "df = df.drop(columns=['Модель', 'Цвет'])"
      ],
      "execution_count": 30,
      "outputs": []
    },
    {
      "cell_type": "code",
      "metadata": {
        "colab": {
          "base_uri": "https://localhost:8080/",
          "height": 204
        },
        "id": "6y5AO1pEJ_db",
        "outputId": "76db4905-bee9-4771-f819-5e740757e54b"
      },
      "source": [
        "df.head()"
      ],
      "execution_count": 32,
      "outputs": [
        {
          "output_type": "execute_result",
          "data": {
            "text/html": [
              "<div>\n",
              "<style scoped>\n",
              "    .dataframe tbody tr th:only-of-type {\n",
              "        vertical-align: middle;\n",
              "    }\n",
              "\n",
              "    .dataframe tbody tr th {\n",
              "        vertical-align: top;\n",
              "    }\n",
              "\n",
              "    .dataframe thead th {\n",
              "        text-align: right;\n",
              "    }\n",
              "</style>\n",
              "<table border=\"1\" class=\"dataframe\">\n",
              "  <thead>\n",
              "    <tr style=\"text-align: right;\">\n",
              "      <th></th>\n",
              "      <th>Марка</th>\n",
              "      <th>Год</th>\n",
              "      <th>Состояние</th>\n",
              "      <th>Пробег</th>\n",
              "      <th>Объем</th>\n",
              "      <th>Топливо</th>\n",
              "      <th>Мощность</th>\n",
              "      <th>Кузов</th>\n",
              "      <th>Привод</th>\n",
              "      <th>КПП</th>\n",
              "      <th>Руль</th>\n",
              "      <th>Хозяев в ПТС</th>\n",
              "      <th>Цена</th>\n",
              "    </tr>\n",
              "  </thead>\n",
              "  <tbody>\n",
              "    <tr>\n",
              "      <th>0</th>\n",
              "      <td>Volkswagen</td>\n",
              "      <td>2013.0</td>\n",
              "      <td>БУ</td>\n",
              "      <td>42000.0</td>\n",
              "      <td>1200.0</td>\n",
              "      <td>бензин</td>\n",
              "      <td>105.0</td>\n",
              "      <td>хэтчбек</td>\n",
              "      <td>передний</td>\n",
              "      <td>автомат</td>\n",
              "      <td>левый</td>\n",
              "      <td>1 владелец</td>\n",
              "      <td>689196.0</td>\n",
              "    </tr>\n",
              "    <tr>\n",
              "      <th>1</th>\n",
              "      <td>Skoda</td>\n",
              "      <td>2012.0</td>\n",
              "      <td>БУ</td>\n",
              "      <td>62000.0</td>\n",
              "      <td>1800.0</td>\n",
              "      <td>бензин</td>\n",
              "      <td>152.0</td>\n",
              "      <td>кроссовер</td>\n",
              "      <td>полный</td>\n",
              "      <td>механика</td>\n",
              "      <td>левый</td>\n",
              "      <td>1 владелец</td>\n",
              "      <td>639196.0</td>\n",
              "    </tr>\n",
              "    <tr>\n",
              "      <th>2</th>\n",
              "      <td>Renault</td>\n",
              "      <td>2015.0</td>\n",
              "      <td>БУ</td>\n",
              "      <td>4700.0</td>\n",
              "      <td>1600.0</td>\n",
              "      <td>бензин</td>\n",
              "      <td>106.0</td>\n",
              "      <td>хэтчбек</td>\n",
              "      <td>передний</td>\n",
              "      <td>механика</td>\n",
              "      <td>левый</td>\n",
              "      <td>1 владелец</td>\n",
              "      <td>629196.0</td>\n",
              "    </tr>\n",
              "    <tr>\n",
              "      <th>3</th>\n",
              "      <td>Nissan</td>\n",
              "      <td>2012.0</td>\n",
              "      <td>БУ</td>\n",
              "      <td>70000.0</td>\n",
              "      <td>1600.0</td>\n",
              "      <td>бензин</td>\n",
              "      <td>110.0</td>\n",
              "      <td>хэтчбек</td>\n",
              "      <td>передний</td>\n",
              "      <td>автомат</td>\n",
              "      <td>левый</td>\n",
              "      <td>1 владелец</td>\n",
              "      <td>479196.0</td>\n",
              "    </tr>\n",
              "    <tr>\n",
              "      <th>4</th>\n",
              "      <td>УАЗ</td>\n",
              "      <td>2014.0</td>\n",
              "      <td>БУ</td>\n",
              "      <td>50000.0</td>\n",
              "      <td>2700.0</td>\n",
              "      <td>бензин</td>\n",
              "      <td>128.0</td>\n",
              "      <td>внедорожник</td>\n",
              "      <td>полный</td>\n",
              "      <td>механика</td>\n",
              "      <td>левый</td>\n",
              "      <td>1 владелец</td>\n",
              "      <td>599196.0</td>\n",
              "    </tr>\n",
              "  </tbody>\n",
              "</table>\n",
              "</div>"
            ],
            "text/plain": [
              "        Марка     Год Состояние  ...   Руль  Хозяев в ПТС      Цена\n",
              "0  Volkswagen  2013.0        БУ  ...  левый    1 владелец  689196.0\n",
              "1       Skoda  2012.0        БУ  ...  левый    1 владелец  639196.0\n",
              "2     Renault  2015.0        БУ  ...  левый    1 владелец  629196.0\n",
              "3      Nissan  2012.0        БУ  ...  левый    1 владелец  479196.0\n",
              "4         УАЗ  2014.0        БУ  ...  левый    1 владелец  599196.0\n",
              "\n",
              "[5 rows x 13 columns]"
            ]
          },
          "metadata": {},
          "execution_count": 32
        }
      ]
    },
    {
      "cell_type": "code",
      "metadata": {
        "colab": {
          "base_uri": "https://localhost:8080/"
        },
        "id": "md3-w1IqLUDp",
        "outputId": "3f96b2c0-bc31-4944-e879-e929057ed366"
      },
      "source": [
        "df.info()"
      ],
      "execution_count": 33,
      "outputs": [
        {
          "output_type": "stream",
          "name": "stdout",
          "text": [
            "<class 'pandas.core.frame.DataFrame'>\n",
            "Int64Index: 35019 entries, 0 to 61065\n",
            "Data columns (total 13 columns):\n",
            " #   Column        Non-Null Count  Dtype  \n",
            "---  ------        --------------  -----  \n",
            " 0   Марка         35019 non-null  object \n",
            " 1   Год           35019 non-null  float64\n",
            " 2   Состояние     35019 non-null  object \n",
            " 3   Пробег        35019 non-null  float64\n",
            " 4   Объем         35019 non-null  float64\n",
            " 5   Топливо       35019 non-null  object \n",
            " 6   Мощность      35019 non-null  float64\n",
            " 7   Кузов         35019 non-null  object \n",
            " 8   Привод        35019 non-null  object \n",
            " 9   КПП           35019 non-null  object \n",
            " 10  Руль          35019 non-null  object \n",
            " 11  Хозяев в ПТС  35019 non-null  object \n",
            " 12  Цена          35019 non-null  float64\n",
            "dtypes: float64(5), object(8)\n",
            "memory usage: 3.7+ MB\n"
          ]
        }
      ]
    },
    {
      "cell_type": "code",
      "metadata": {
        "colab": {
          "base_uri": "https://localhost:8080/"
        },
        "id": "E22qdEmgLUTI",
        "outputId": "cde0a5be-92c1-4a20-93a4-b9e2909fc4da"
      },
      "source": [
        "df[\"Марка\"].value_counts()"
      ],
      "execution_count": 34,
      "outputs": [
        {
          "output_type": "execute_result",
          "data": {
            "text/plain": [
              "ВАЗ                5497\n",
              "Toyota             2700\n",
              "Nissan             2064\n",
              "Hyundai            1897\n",
              "Volkswagen         1885\n",
              "                   ... \n",
              "Renault Samsung       1\n",
              "DongFeng              1\n",
              "Hawtai                1\n",
              "Oldsmobile            1\n",
              "ВИС                   1\n",
              "Name: Марка, Length: 92, dtype: int64"
            ]
          },
          "metadata": {},
          "execution_count": 34
        }
      ]
    },
    {
      "cell_type": "code",
      "metadata": {
        "colab": {
          "base_uri": "https://localhost:8080/"
        },
        "id": "NPJU4L_4LUiA",
        "outputId": "dbeaf595-dde7-4c84-fb7d-141943833627"
      },
      "source": [
        "df[\"Год\"].value_counts()"
      ],
      "execution_count": 35,
      "outputs": [
        {
          "output_type": "execute_result",
          "data": {
            "text/plain": [
              "2008.0    3761\n",
              "2012.0    3376\n",
              "2007.0    3254\n",
              "2011.0    3197\n",
              "2013.0    2691\n",
              "2006.0    2280\n",
              "2010.0    2094\n",
              "2014.0    1619\n",
              "2005.0    1451\n",
              "2004.0    1443\n",
              "2009.0    1225\n",
              "2003.0    1140\n",
              "2001.0    1034\n",
              "2002.0     966\n",
              "2015.0     849\n",
              "2000.0     845\n",
              "1999.0     639\n",
              "1998.0     580\n",
              "1997.0     569\n",
              "2016.0     445\n",
              "1996.0     338\n",
              "1995.0     262\n",
              "1993.0     260\n",
              "1994.0     226\n",
              "1992.0     192\n",
              "1991.0     155\n",
              "1990.0     108\n",
              "2017.0      20\n",
              "Name: Год, dtype: int64"
            ]
          },
          "metadata": {},
          "execution_count": 35
        }
      ]
    },
    {
      "cell_type": "code",
      "metadata": {
        "colab": {
          "base_uri": "https://localhost:8080/"
        },
        "id": "lWAZnkeQLUyY",
        "outputId": "96a4d514-46a9-4332-be64-50c0d3b6d6b7"
      },
      "source": [
        "df[\"Кузов\"].value_counts()"
      ],
      "execution_count": 36,
      "outputs": [
        {
          "output_type": "execute_result",
          "data": {
            "text/plain": [
              "седан          14241\n",
              "хэтчбек         8462\n",
              "кроссовер       4980\n",
              "внедорожник     3359\n",
              "универсал       1893\n",
              "минивэн         1188\n",
              "купе             519\n",
              "пикап            314\n",
              "кабриолет         31\n",
              "лимузин           26\n",
              "родстер            6\n",
              "Name: Кузов, dtype: int64"
            ]
          },
          "metadata": {},
          "execution_count": 36
        }
      ]
    },
    {
      "cell_type": "code",
      "metadata": {
        "colab": {
          "base_uri": "https://localhost:8080/"
        },
        "id": "H1FkYhUYLi5W",
        "outputId": "fda7cd7e-bf6c-4e26-bb3b-4bf3d46e1942"
      },
      "source": [
        "df[\"Привод\"].value_counts()"
      ],
      "execution_count": 37,
      "outputs": [
        {
          "output_type": "execute_result",
          "data": {
            "text/plain": [
              "передний    23933\n",
              "полный       8481\n",
              "задний       2605\n",
              "Name: Привод, dtype: int64"
            ]
          },
          "metadata": {},
          "execution_count": 37
        }
      ]
    },
    {
      "cell_type": "code",
      "metadata": {
        "colab": {
          "base_uri": "https://localhost:8080/",
          "height": 297
        },
        "id": "No99KwfWLzZs",
        "outputId": "5b41f7f4-6114-42f7-c936-c7baac079c17"
      },
      "source": [
        "df.describe()"
      ],
      "execution_count": 38,
      "outputs": [
        {
          "output_type": "execute_result",
          "data": {
            "text/html": [
              "<div>\n",
              "<style scoped>\n",
              "    .dataframe tbody tr th:only-of-type {\n",
              "        vertical-align: middle;\n",
              "    }\n",
              "\n",
              "    .dataframe tbody tr th {\n",
              "        vertical-align: top;\n",
              "    }\n",
              "\n",
              "    .dataframe thead th {\n",
              "        text-align: right;\n",
              "    }\n",
              "</style>\n",
              "<table border=\"1\" class=\"dataframe\">\n",
              "  <thead>\n",
              "    <tr style=\"text-align: right;\">\n",
              "      <th></th>\n",
              "      <th>Год</th>\n",
              "      <th>Пробег</th>\n",
              "      <th>Объем</th>\n",
              "      <th>Мощность</th>\n",
              "      <th>Цена</th>\n",
              "    </tr>\n",
              "  </thead>\n",
              "  <tbody>\n",
              "    <tr>\n",
              "      <th>count</th>\n",
              "      <td>35019.000000</td>\n",
              "      <td>35019.000000</td>\n",
              "      <td>35019.000000</td>\n",
              "      <td>35019.000000</td>\n",
              "      <td>3.501900e+04</td>\n",
              "    </tr>\n",
              "    <tr>\n",
              "      <th>mean</th>\n",
              "      <td>2007.370056</td>\n",
              "      <td>120830.338559</td>\n",
              "      <td>1877.595020</td>\n",
              "      <td>128.989606</td>\n",
              "      <td>4.889877e+05</td>\n",
              "    </tr>\n",
              "    <tr>\n",
              "      <th>std</th>\n",
              "      <td>5.332053</td>\n",
              "      <td>69805.918666</td>\n",
              "      <td>617.729308</td>\n",
              "      <td>52.277648</td>\n",
              "      <td>4.765761e+05</td>\n",
              "    </tr>\n",
              "    <tr>\n",
              "      <th>min</th>\n",
              "      <td>1990.000000</td>\n",
              "      <td>5.000000</td>\n",
              "      <td>100.000000</td>\n",
              "      <td>1.000000</td>\n",
              "      <td>8.000000e+03</td>\n",
              "    </tr>\n",
              "    <tr>\n",
              "      <th>25%</th>\n",
              "      <td>2004.000000</td>\n",
              "      <td>70000.000000</td>\n",
              "      <td>1500.000000</td>\n",
              "      <td>90.000000</td>\n",
              "      <td>1.900000e+05</td>\n",
              "    </tr>\n",
              "    <tr>\n",
              "      <th>50%</th>\n",
              "      <td>2008.000000</td>\n",
              "      <td>110000.000000</td>\n",
              "      <td>1600.000000</td>\n",
              "      <td>116.000000</td>\n",
              "      <td>3.700000e+05</td>\n",
              "    </tr>\n",
              "    <tr>\n",
              "      <th>75%</th>\n",
              "      <td>2012.000000</td>\n",
              "      <td>160000.000000</td>\n",
              "      <td>2000.000000</td>\n",
              "      <td>150.000000</td>\n",
              "      <td>6.200000e+05</td>\n",
              "    </tr>\n",
              "    <tr>\n",
              "      <th>max</th>\n",
              "      <td>2017.000000</td>\n",
              "      <td>363000.000000</td>\n",
              "      <td>4600.000000</td>\n",
              "      <td>333.000000</td>\n",
              "      <td>6.900000e+06</td>\n",
              "    </tr>\n",
              "  </tbody>\n",
              "</table>\n",
              "</div>"
            ],
            "text/plain": [
              "                Год         Пробег         Объем      Мощность          Цена\n",
              "count  35019.000000   35019.000000  35019.000000  35019.000000  3.501900e+04\n",
              "mean    2007.370056  120830.338559   1877.595020    128.989606  4.889877e+05\n",
              "std        5.332053   69805.918666    617.729308     52.277648  4.765761e+05\n",
              "min     1990.000000       5.000000    100.000000      1.000000  8.000000e+03\n",
              "25%     2004.000000   70000.000000   1500.000000     90.000000  1.900000e+05\n",
              "50%     2008.000000  110000.000000   1600.000000    116.000000  3.700000e+05\n",
              "75%     2012.000000  160000.000000   2000.000000    150.000000  6.200000e+05\n",
              "max     2017.000000  363000.000000   4600.000000    333.000000  6.900000e+06"
            ]
          },
          "metadata": {},
          "execution_count": 38
        }
      ]
    },
    {
      "cell_type": "code",
      "metadata": {
        "colab": {
          "base_uri": "https://localhost:8080/",
          "height": 892
        },
        "id": "7w2C_-6sLzQZ",
        "outputId": "dbaa63eb-ef3e-46e7-bb85-3c620b5f737e"
      },
      "source": [
        "df.hist(bins = 15, figsize = (20, 15))\n",
        "plt.show()"
      ],
      "execution_count": 44,
      "outputs": [
        {
          "output_type": "display_data",
          "data": {
            "image/png": "[encoded data removed]",
            "text/plain": [
              "<Figure size 1440x1080 with 6 Axes>"
            ]
          },
          "metadata": {
            "needs_background": "light"
          }
        }
      ]
    },
    {
      "cell_type": "code",
      "metadata": {
        "id": "5vkaRcggLzLU"
      },
      "source": [
        "from sklearn.preprocessing import StandardScaler, OneHotEncoder, LabelEncoder\n",
        "from sklearn.cluster import KMeans\n",
        "from sklearn.compose import ColumnTransformer\n"
      ],
      "execution_count": 70,
      "outputs": []
    },
    {
      "cell_type": "code",
      "metadata": {
        "colab": {
          "base_uri": "https://localhost:8080/"
        },
        "id": "FAqr4eMjLzEM",
        "outputId": "141d3b89-ac50-4a83-bb06-553eabc9d07b"
      },
      "source": [
        "print('Количество строк = ', df.shape[0])\n",
        "print('Количество колонок = ', df.shape[1])"
      ],
      "execution_count": 71,
      "outputs": [
        {
          "output_type": "stream",
          "name": "stdout",
          "text": [
            "Количество строк =  35019\n",
            "Количество колонок =  13\n"
          ]
        }
      ]
    }
  ]
}